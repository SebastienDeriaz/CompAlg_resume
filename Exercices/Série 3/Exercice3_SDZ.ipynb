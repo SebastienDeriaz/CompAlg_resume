{
 "cells": [
  {
   "cell_type": "code",
   "execution_count": 1,
   "metadata": {},
   "outputs": [],
   "source": [
    "import numpy as np"
   ]
  },
  {
   "cell_type": "markdown",
   "metadata": {},
   "source": [
    "![picture 1](021980e210707fe50bda16febb3bac5006150f169de390114341445ab7fa7034.png)  \n"
   ]
  },
  {
   "cell_type": "markdown",
   "metadata": {},
   "source": [
    "## (a)\n",
    "\n"
   ]
  },
  {
   "cell_type": "markdown",
   "metadata": {},
   "source": [
    "## (b)\n",
    "\n",
    "\n",
    "$$S_2=\\frac{h}{3}\\left(f(0)+4f\\left(\\frac{\\pi}{2}\\right)+f(\\pi)\\right)$$"
   ]
  },
  {
   "cell_type": "markdown",
   "metadata": {},
   "source": [
    "## (c)"
   ]
  },
  {
   "cell_type": "code",
   "execution_count": 5,
   "metadata": {},
   "outputs": [
    {
     "name": "stdout",
     "output_type": "stream",
     "text": [
      "1.8519537008325528\n"
     ]
    }
   ],
   "source": [
    "def f(x):\n",
    "    return np.sin(x)/x\n",
    "\n",
    "h = np.pi / 8\n",
    "n = 4\n",
    "x = np.arange(2*n+1) * h\n",
    "\n",
    "Sc = h/3 * (1+4*f(x[1])+2*(f(x[2]) + 2*f(x[3]) + f(x[4]) + 2*f(x[5]) + f(x[6]) + 2*f(x[7])))\n",
    "print(Sc)"
   ]
  }
 ],
 "metadata": {
  "interpreter": {
   "hash": "06a6858702f229212a45149ce6c1ba73d7326b5afdeebebe8324a7c067d664c2"
  },
  "kernelspec": {
   "display_name": "Python 3.10.0 64-bit",
   "language": "python",
   "name": "python3"
  },
  "language_info": {
   "codemirror_mode": {
    "name": "ipython",
    "version": 3
   },
   "file_extension": ".py",
   "mimetype": "text/x-python",
   "name": "python",
   "nbconvert_exporter": "python",
   "pygments_lexer": "ipython3",
   "version": "3.10.0"
  },
  "orig_nbformat": 4
 },
 "nbformat": 4,
 "nbformat_minor": 2
}
