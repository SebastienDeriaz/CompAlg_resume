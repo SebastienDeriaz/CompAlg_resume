{
 "cells": [
  {
   "cell_type": "code",
   "execution_count": 3,
   "metadata": {},
   "outputs": [],
   "source": [
    "import numpy as np\n",
    "from scipy import linalg"
   ]
  },
  {
   "cell_type": "markdown",
   "metadata": {},
   "source": [
    "![picture 1](49f32bf910fcc368eacb788630872bb3b6e561e08da17c111b4a204d5d4be619.png)  \n"
   ]
  },
  {
   "cell_type": "markdown",
   "metadata": {},
   "source": [
    "$$\\begin{pmatrix}4 & 1 & 0 & 0\\\\1 & 4 & 1 & 0\\\\0 & 1 & 4 & 1\\\\0 & 0 & 1 & 4\\end{pmatrix}\\begin{pmatrix}y_1''\\\\y_2''\\\\y_3''\\\\y_4''\\end{pmatrix}=\\frac{6}{h^2}\\begin{pmatrix}y_2-2y_1+y_0\\\\y_3-2y_2+y_1\\\\y_4-2y_3+y_2\\\\y_5-2y_4+y_3\\end{pmatrix}-\\begin{pmatrix}y_0''\\\\0\\\\0\\\\y_4''\\end{pmatrix}$$"
   ]
  },
  {
   "cell_type": "code",
   "execution_count": 20,
   "metadata": {},
   "outputs": [
    {
     "name": "stdout",
     "output_type": "stream",
     "text": [
      "[[4 1 0 0]\n",
      " [1 4 1 0]\n",
      " [0 1 4 1]\n",
      " [0 0 1 4]]\n",
      "[[-3.43150627e-01]\n",
      " [ 3.98828501e-02]\n",
      " [-2.46392138e-02]\n",
      " [ 1.19550635e-04]]\n"
     ]
    }
   ],
   "source": [
    "A = np.asmatrix(linalg.toeplitz([4,1,0,0]))\n",
    "print(A)\n",
    "\n",
    "h = 2\n",
    "y = np.asmatrix(np.arctan(np.arange(0,10+2,2)).reshape(-1,1))\n",
    "ypp = A.I @ (y[2:,:] - 2*y[1:-1,:] + y[:-2,:]) * 6/h**2\n",
    "\n",
    "print(ypp)"
   ]
  }
 ],
 "metadata": {
  "interpreter": {
   "hash": "06a6858702f229212a45149ce6c1ba73d7326b5afdeebebe8324a7c067d664c2"
  },
  "kernelspec": {
   "display_name": "Python 3.10.0 64-bit",
   "language": "python",
   "name": "python3"
  },
  "language_info": {
   "codemirror_mode": {
    "name": "ipython",
    "version": 3
   },
   "file_extension": ".py",
   "mimetype": "text/x-python",
   "name": "python",
   "nbconvert_exporter": "python",
   "pygments_lexer": "ipython3",
   "version": "3.10.0"
  },
  "orig_nbformat": 4
 },
 "nbformat": 4,
 "nbformat_minor": 2
}
