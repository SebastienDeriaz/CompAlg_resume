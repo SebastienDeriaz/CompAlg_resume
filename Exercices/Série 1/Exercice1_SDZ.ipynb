{
 "cells": [
  {
   "cell_type": "markdown",
   "metadata": {},
   "source": [
    "![picture 1](97a444bde25fccb00e6454ee65689f1085fbd36ac68773fbfc10b2825015f875.png)  \n"
   ]
  },
  {
   "cell_type": "markdown",
   "metadata": {},
   "source": [
    "## (a)\n",
    "$$p_2(x)=\\frac{1}{2}\\frac{(x-x_1)(x-x_2)}{(x_0-x_1)(x_0-x_2)}+\\frac{2}{5}\\frac{(x-x_0)(x-x_2)}{(x_1-x_0)(x_1-x_2)}+\\frac{1}{4}\\frac{(x-x_0)(x-x_1)}{(x_2-x_0)(x_2-x_1)}"
   ]
  },
  {
   "cell_type": "markdown",
   "metadata": {},
   "source": [
    "## (b)\n",
    "On construit le tablau de newton et on trouve\n",
    "$$c_0=\\frac{1}{2}\\qquad c_1=-\\frac{1}{5}\\qquad \\frac{1}{20}$$\n",
    "\n",
    "$$p_2(x)=\\frac{1}{2}-\\frac{1}{5}(x-x_0)+\\frac{1}{20}(x-x_0)(x-x_1)$$"
   ]
  },
  {
   "cell_type": "markdown",
   "metadata": {},
   "source": [
    "## (c)\n",
    "\n",
    "$$p_2(3)=\\frac{13}{40}=0.325$$"
   ]
  }
 ],
 "metadata": {
  "language_info": {
   "name": "python"
  },
  "orig_nbformat": 4
 },
 "nbformat": 4,
 "nbformat_minor": 2
}
