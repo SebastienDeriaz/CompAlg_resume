{
 "cells": [
  {
   "cell_type": "code",
   "execution_count": 2,
   "metadata": {},
   "outputs": [],
   "source": [
    "import numpy as np\n",
    "import matplotlib.pyplot as plt"
   ]
  },
  {
   "cell_type": "code",
   "execution_count": 10,
   "metadata": {},
   "outputs": [],
   "source": [
    "def cubic_bezier(P, t):\n",
    "    P = np.matrix(P)\n",
    "    t = np.array(t).reshape(-1,1)\n",
    "    return (1-t)**3@P[0,:] + 3*(1-t)**2*t@P[1,:] + 3*(1-t)*t**2@P[2,:] + t**3@P[3,:]\n",
    "\n",
    "def lerp(P1, P2, t):\n",
    "    return (1-t)*P1 + P2*t\n"
   ]
  },
  {
   "cell_type": "code",
   "execution_count": 22,
   "metadata": {},
   "outputs": [
    {
     "name": "stdout",
     "output_type": "stream",
     "text": [
      "(3, 2)\n"
     ]
    },
    {
     "data": {
      "image/png": "[encoded data removed]",
      "text/plain": [
       "<Figure size 432x288 with 1 Axes>"
      ]
     },
     "metadata": {
      "needs_background": "light"
     },
     "output_type": "display_data"
    }
   ],
   "source": [
    "# Courbe de Bézier\n",
    "P = np.matrix('[0 1 4 5;0 2 3 0]').T\n",
    "\n",
    "t = np.linspace(0, 1, 100)\n",
    "b = cubic_bezier(P, t)\n",
    "plt.plot(P[:,0], P[:,1], 'x')\n",
    "plt.plot(b[:,0], b[:,1])\n",
    "plt.grid()\n",
    "\n",
    "# Export\n",
    "np.savetxt('cubic_bezier.dat', b)\n",
    "\n",
    "t0 = 0.4\n",
    "P1 = np.concatenate([lerp(P[0,:], P[1,:],t0), lerp(P[1,:], P[2,:], t0), lerp(P[2,:], P[3,:], t0)])\n",
    "P2 = np.concatenate([lerp(P1[0,:], P1[1,:], t0), lerp(P1[1,:], P1[2,:], t0)])\n",
    "P3 = np.concatenate([lerp(P2[0,:], P2[1,:], t0)])\n",
    "print(P1.shape)\n",
    "M = np.concatenate([P, P1,P2, P3])\n",
    "np.savetxt('cubic_bezier_points.tex', M)"
   ]
  },
  {
   "cell_type": "code",
   "execution_count": null,
   "metadata": {},
   "outputs": [],
   "source": []
  }
 ],
 "metadata": {
  "interpreter": {
   "hash": "06a6858702f229212a45149ce6c1ba73d7326b5afdeebebe8324a7c067d664c2"
  },
  "kernelspec": {
   "display_name": "Python 3.10.0 64-bit",
   "name": "python3"
  },
  "language_info": {
   "codemirror_mode": {
    "name": "ipython",
    "version": 3
   },
   "file_extension": ".py",
   "mimetype": "text/x-python",
   "name": "python",
   "nbconvert_exporter": "python",
   "pygments_lexer": "ipython3",
   "version": "3.10.0"
  },
  "orig_nbformat": 4
 },
 "nbformat": 4,
 "nbformat_minor": 2
}
